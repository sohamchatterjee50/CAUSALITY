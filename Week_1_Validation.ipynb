{
 "cells": [
  {
   "cell_type": "markdown",
   "id": "9eb26cb7",
   "metadata": {},
   "source": [
    "# Causal Data Science Week 1 Tutorial\n",
    "\n",
    "This is the first tutorial for the Causal Data Science course. In it, we will give an overview of the python libaries that are used in the course: numpy, pandas, and more. Familiarity with these libraries is necessary to apply the 'DoWhy' package - a library used in implementing causal analysis."
   ]
  },
  {
   "cell_type": "markdown",
   "id": "160bdad2",
   "metadata": {},
   "source": [
    "## numpy\n",
    "\n",
    "numpy is a library used for storing data and performing numerical operations on it. The documentation is available at: https://numpy.org/doc/stable/index.html, which is where these examples are drawn from (here we show just some exampes of what we can do with numpy)."
   ]
  },
  {
   "cell_type": "code",
   "execution_count": 2,
   "id": "1da2e1e8",
   "metadata": {},
   "outputs": [
    {
     "data": {
      "text/plain": [
       "array([6, 7, 8])"
      ]
     },
     "execution_count": 2,
     "metadata": {},
     "output_type": "execute_result"
    }
   ],
   "source": [
    "# we first import numpy under the name 'np'\n",
    "import numpy as np\n",
    "\n",
    "# we convert the python list [6, 7, 8] into a numpy array name 'a'\n",
    "a = np.array([6, 7, 8])\n",
    "\n",
    "# we can view 'a' by calling it\n",
    "a"
   ]
  },
  {
   "cell_type": "code",
   "execution_count": 3,
   "id": "68d1b933",
   "metadata": {},
   "outputs": [
    {
     "ename": "TypeError",
     "evalue": "array() takes from 1 to 2 positional arguments but 4 were given",
     "output_type": "error",
     "traceback": [
      "\u001b[0;31m---------------------------------------------------------------------------\u001b[0m",
      "\u001b[0;31mTypeError\u001b[0m                                 Traceback (most recent call last)",
      "Cell \u001b[0;32mIn[3], line 2\u001b[0m\n\u001b[1;32m      1\u001b[0m \u001b[38;5;66;03m# we need to provide a list to create a numpy array\u001b[39;00m\n\u001b[0;32m----> 2\u001b[0m a \u001b[38;5;241m=\u001b[39m \u001b[43mnp\u001b[49m\u001b[38;5;241;43m.\u001b[39;49m\u001b[43marray\u001b[49m\u001b[43m(\u001b[49m\u001b[38;5;241;43m1\u001b[39;49m\u001b[43m,\u001b[49m\u001b[43m \u001b[49m\u001b[38;5;241;43m2\u001b[39;49m\u001b[43m,\u001b[49m\u001b[43m \u001b[49m\u001b[38;5;241;43m3\u001b[39;49m\u001b[43m,\u001b[49m\u001b[43m \u001b[49m\u001b[38;5;241;43m4\u001b[39;49m\u001b[43m)\u001b[49m    \u001b[38;5;66;03m# WRONG, a list, [ ], needs to be provided\u001b[39;00m\n",
      "\u001b[0;31mTypeError\u001b[0m: array() takes from 1 to 2 positional arguments but 4 were given"
     ]
    }
   ],
   "source": [
    "# we need to provide a list to create a numpy array\n",
    "a = np.array(1, 2, 3, 4)    # WRONG, a list, [ ], needs to be provided"
   ]
  },
  {
   "cell_type": "markdown",
   "id": "d235dcc9",
   "metadata": {},
   "source": [
    "numpy arrays can be multidimensional. Here, we used arange(15) to make the list [0, 1, 2, 3, 4, ..., 14], and turn it into a 3 x 5 matrix, and name it 'b'"
   ]
  },
  {
   "cell_type": "code",
   "execution_count": 20,
   "id": "a177277b",
   "metadata": {},
   "outputs": [
    {
     "data": {
      "text/plain": [
       "array([[ 0,  1,  2,  3,  4],\n",
       "       [ 5,  6,  7,  8,  9],\n",
       "       [10, 11, 12, 13, 14]])"
      ]
     },
     "execution_count": 20,
     "metadata": {},
     "output_type": "execute_result"
    }
   ],
   "source": [
    "b = np.arange(15).reshape(3, 5)\n",
    "\n",
    "# we can again view 'b'\n",
    "b"
   ]
  },
  {
   "cell_type": "markdown",
   "id": "c8e9648b",
   "metadata": {},
   "source": [
    "We can perform operations on numpy arrays. Some of the key functions include things like addition, subtraction, exponentiation"
   ]
  },
  {
   "cell_type": "code",
   "execution_count": 21,
   "id": "64b2d2e3",
   "metadata": {},
   "outputs": [
    {
     "data": {
      "text/plain": [
       "array([20, 31, 42, 53])"
      ]
     },
     "execution_count": 21,
     "metadata": {},
     "output_type": "execute_result"
    }
   ],
   "source": [
    "# we create two numpy arrays, 'a' and 'b', and add them together\n",
    "a = np.array([20, 30, 40, 50])\n",
    "b = np.arange(4) # this is the array [0, 1, 2, 3]\n",
    "a + b"
   ]
  },
  {
   "cell_type": "markdown",
   "id": "c1616264",
   "metadata": {},
   "source": [
    "Arrays can be indexed and sliced the same way as lists in python"
   ]
  },
  {
   "cell_type": "code",
   "execution_count": 22,
   "id": "1372eac5",
   "metadata": {},
   "outputs": [
    {
     "data": {
      "text/plain": [
       "array([20, 30])"
      ]
     },
     "execution_count": 22,
     "metadata": {},
     "output_type": "execute_result"
    }
   ],
   "source": [
    "# we view the array 'a' from the first element (labelled 0) to the 2nd element\n",
    "a[0:2]"
   ]
  },
  {
   "cell_type": "markdown",
   "id": "affa0ade",
   "metadata": {},
   "source": [
    "With numpy and the other libraries we are using, you can usually find answers to any questions you have quite easily by googling/StackOverflow e.g. 'how to do integration numpy'"
   ]
  },
  {
   "cell_type": "markdown",
   "id": "fc4d5da7",
   "metadata": {},
   "source": [
    "## pandas\n",
    "\n",
    "pandas are used to store and manipulate dataframes, with multiple columns measuring different attributes. They are used as inputs for many machine learning libraries, including the library used in this course: DoWhy. Information and examples are available at https://pandas.pydata.org/pandas-docs/stable/index.html "
   ]
  },
  {
   "cell_type": "code",
   "execution_count": 23,
   "id": "6325dfa3",
   "metadata": {},
   "outputs": [
    {
     "data": {
      "text/html": [
       "<div>\n",
       "<style scoped>\n",
       "    .dataframe tbody tr th:only-of-type {\n",
       "        vertical-align: middle;\n",
       "    }\n",
       "\n",
       "    .dataframe tbody tr th {\n",
       "        vertical-align: top;\n",
       "    }\n",
       "\n",
       "    .dataframe thead th {\n",
       "        text-align: right;\n",
       "    }\n",
       "</style>\n",
       "<table border=\"1\" class=\"dataframe\">\n",
       "  <thead>\n",
       "    <tr style=\"text-align: right;\">\n",
       "      <th></th>\n",
       "      <th>A</th>\n",
       "      <th>B</th>\n",
       "      <th>C</th>\n",
       "      <th>D</th>\n",
       "      <th>E</th>\n",
       "      <th>F</th>\n",
       "    </tr>\n",
       "  </thead>\n",
       "  <tbody>\n",
       "    <tr>\n",
       "      <th>0</th>\n",
       "      <td>1.0</td>\n",
       "      <td>2013-01-02</td>\n",
       "      <td>1.0</td>\n",
       "      <td>3</td>\n",
       "      <td>test</td>\n",
       "      <td>foo</td>\n",
       "    </tr>\n",
       "    <tr>\n",
       "      <th>1</th>\n",
       "      <td>1.0</td>\n",
       "      <td>2013-01-02</td>\n",
       "      <td>1.0</td>\n",
       "      <td>3</td>\n",
       "      <td>train</td>\n",
       "      <td>foo</td>\n",
       "    </tr>\n",
       "    <tr>\n",
       "      <th>2</th>\n",
       "      <td>1.0</td>\n",
       "      <td>2013-01-02</td>\n",
       "      <td>1.0</td>\n",
       "      <td>3</td>\n",
       "      <td>test</td>\n",
       "      <td>foo</td>\n",
       "    </tr>\n",
       "    <tr>\n",
       "      <th>3</th>\n",
       "      <td>1.0</td>\n",
       "      <td>2013-01-02</td>\n",
       "      <td>1.0</td>\n",
       "      <td>3</td>\n",
       "      <td>train</td>\n",
       "      <td>foo</td>\n",
       "    </tr>\n",
       "  </tbody>\n",
       "</table>\n",
       "</div>"
      ],
      "text/plain": [
       "     A          B    C  D      E    F\n",
       "0  1.0 2013-01-02  1.0  3   test  foo\n",
       "1  1.0 2013-01-02  1.0  3  train  foo\n",
       "2  1.0 2013-01-02  1.0  3   test  foo\n",
       "3  1.0 2013-01-02  1.0  3  train  foo"
      ]
     },
     "execution_count": 23,
     "metadata": {},
     "output_type": "execute_result"
    }
   ],
   "source": [
    "# we first import pandas under the name 'pd'\n",
    "import pandas as pd\n",
    "\n",
    "# we create a dataframe name 'df'. The letters 'A', 'B', 'C', etc. represent the columns and the rest the values for that column\n",
    "df = pd.DataFrame(\n",
    "    {\n",
    "        \"A\": 1.0,\n",
    "        \"B\": pd.Timestamp(\"20130102\"),\n",
    "        \"C\": pd.Series(1, index=list(range(4)), dtype=\"float32\"),\n",
    "        \"D\": np.array([3] * 4, dtype=\"int32\"),\n",
    "        \"E\": pd.Categorical([\"test\", \"train\", \"test\", \"train\"]),\n",
    "        \"F\": \"foo\",\n",
    "    }\n",
    ")\n",
    "\n",
    "# we can view our dataframe by calling it\n",
    "df"
   ]
  },
  {
   "cell_type": "code",
   "execution_count": 24,
   "id": "6b94dcdc",
   "metadata": {},
   "outputs": [
    {
     "data": {
      "text/html": [
       "<div>\n",
       "<style scoped>\n",
       "    .dataframe tbody tr th:only-of-type {\n",
       "        vertical-align: middle;\n",
       "    }\n",
       "\n",
       "    .dataframe tbody tr th {\n",
       "        vertical-align: top;\n",
       "    }\n",
       "\n",
       "    .dataframe thead th {\n",
       "        text-align: right;\n",
       "    }\n",
       "</style>\n",
       "<table border=\"1\" class=\"dataframe\">\n",
       "  <thead>\n",
       "    <tr style=\"text-align: right;\">\n",
       "      <th></th>\n",
       "      <th>A</th>\n",
       "      <th>B</th>\n",
       "      <th>C</th>\n",
       "      <th>D</th>\n",
       "      <th>E</th>\n",
       "      <th>F</th>\n",
       "    </tr>\n",
       "  </thead>\n",
       "  <tbody>\n",
       "    <tr>\n",
       "      <th>0</th>\n",
       "      <td>1.0</td>\n",
       "      <td>2013-01-02</td>\n",
       "      <td>1.0</td>\n",
       "      <td>3</td>\n",
       "      <td>test</td>\n",
       "      <td>foo</td>\n",
       "    </tr>\n",
       "    <tr>\n",
       "      <th>1</th>\n",
       "      <td>1.0</td>\n",
       "      <td>2013-01-02</td>\n",
       "      <td>1.0</td>\n",
       "      <td>3</td>\n",
       "      <td>train</td>\n",
       "      <td>foo</td>\n",
       "    </tr>\n",
       "    <tr>\n",
       "      <th>2</th>\n",
       "      <td>1.0</td>\n",
       "      <td>2013-01-02</td>\n",
       "      <td>1.0</td>\n",
       "      <td>3</td>\n",
       "      <td>test</td>\n",
       "      <td>foo</td>\n",
       "    </tr>\n",
       "  </tbody>\n",
       "</table>\n",
       "</div>"
      ],
      "text/plain": [
       "     A          B    C  D      E    F\n",
       "0  1.0 2013-01-02  1.0  3   test  foo\n",
       "1  1.0 2013-01-02  1.0  3  train  foo\n",
       "2  1.0 2013-01-02  1.0  3   test  foo"
      ]
     },
     "execution_count": 24,
     "metadata": {},
     "output_type": "execute_result"
    }
   ],
   "source": [
    "# we can view the first n rows of a dataframe using 'dataframe_name'.head(n)\n",
    "df.head(3) # first three rows"
   ]
  },
  {
   "cell_type": "code",
   "execution_count": 25,
   "id": "019ce6eb",
   "metadata": {},
   "outputs": [
    {
     "data": {
      "text/plain": [
       "0     test\n",
       "1    train\n",
       "2     test\n",
       "3    train\n",
       "Name: E, dtype: category\n",
       "Categories (2, object): ['test', 'train']"
      ]
     },
     "execution_count": 25,
     "metadata": {},
     "output_type": "execute_result"
    }
   ],
   "source": [
    "# we can view column(s) from the dataframe by calling the desired column(s)\n",
    "df['E'] # column E"
   ]
  },
  {
   "cell_type": "code",
   "execution_count": 26,
   "id": "c5e52c7e",
   "metadata": {},
   "outputs": [
    {
     "data": {
      "text/html": [
       "<div>\n",
       "<style scoped>\n",
       "    .dataframe tbody tr th:only-of-type {\n",
       "        vertical-align: middle;\n",
       "    }\n",
       "\n",
       "    .dataframe tbody tr th {\n",
       "        vertical-align: top;\n",
       "    }\n",
       "\n",
       "    .dataframe thead th {\n",
       "        text-align: right;\n",
       "    }\n",
       "</style>\n",
       "<table border=\"1\" class=\"dataframe\">\n",
       "  <thead>\n",
       "    <tr style=\"text-align: right;\">\n",
       "      <th></th>\n",
       "      <th>A</th>\n",
       "      <th>B</th>\n",
       "      <th>C</th>\n",
       "      <th>D</th>\n",
       "      <th>E</th>\n",
       "      <th>F</th>\n",
       "    </tr>\n",
       "  </thead>\n",
       "  <tbody>\n",
       "    <tr>\n",
       "      <th>0</th>\n",
       "      <td>1.0</td>\n",
       "      <td>2013-01-02</td>\n",
       "      <td>1.0</td>\n",
       "      <td>3</td>\n",
       "      <td>test</td>\n",
       "      <td>foo</td>\n",
       "    </tr>\n",
       "    <tr>\n",
       "      <th>1</th>\n",
       "      <td>1.0</td>\n",
       "      <td>2013-01-02</td>\n",
       "      <td>1.0</td>\n",
       "      <td>3</td>\n",
       "      <td>train</td>\n",
       "      <td>foo</td>\n",
       "    </tr>\n",
       "  </tbody>\n",
       "</table>\n",
       "</div>"
      ],
      "text/plain": [
       "     A          B    C  D      E    F\n",
       "0  1.0 2013-01-02  1.0  3   test  foo\n",
       "1  1.0 2013-01-02  1.0  3  train  foo"
      ]
     },
     "execution_count": 26,
     "metadata": {},
     "output_type": "execute_result"
    }
   ],
   "source": [
    "# we can view specific rows using indices\n",
    "df[0:2] # rows 0 to 1"
   ]
  },
  {
   "cell_type": "markdown",
   "id": "9af24ddc",
   "metadata": {},
   "source": [
    "Data in a pandas dataframe can be plotted easily using matplotlib"
   ]
  },
  {
   "cell_type": "code",
   "execution_count": 27,
   "id": "eb484bed",
   "metadata": {},
   "outputs": [
    {
     "data": {
      "text/plain": [
       "<Axes: >"
      ]
     },
     "execution_count": 27,
     "metadata": {},
     "output_type": "execute_result"
    },
    {
     "data": {
      "image/png": "[encoded data removed]",
      "text/plain": [
       "<Figure size 640x480 with 1 Axes>"
      ]
     },
     "metadata": {},
     "output_type": "display_data"
    }
   ],
   "source": [
    "# we import pyplot with the name 'plt'\n",
    "import matplotlib.pyplot as plt\n",
    "\n",
    "# we create a random pandas series and apply the cumsum function\n",
    "ts = pd.Series(np.random.randn(1000), index=pd.date_range(\"1/1/2000\", periods=1000))\n",
    "\n",
    "ts = ts.cumsum()\n",
    "\n",
    "ts.plot() # this is the command that plots the data"
   ]
  },
  {
   "cell_type": "code",
   "execution_count": 28,
   "id": "2694e289",
   "metadata": {},
   "outputs": [
    {
     "data": {
      "text/plain": [
       "2000-01-01   -1.054223\n",
       "2000-01-02   -1.766944\n",
       "2000-01-03   -0.861600\n",
       "2000-01-04   -2.410553\n",
       "2000-01-05   -3.159223\n",
       "                ...   \n",
       "2002-09-22    9.359501\n",
       "2002-09-23    8.766232\n",
       "2002-09-24    9.181211\n",
       "2002-09-25    8.674707\n",
       "2002-09-26    7.849822\n",
       "Freq: D, Length: 1000, dtype: float64"
      ]
     },
     "execution_count": 28,
     "metadata": {},
     "output_type": "execute_result"
    }
   ],
   "source": [
    "ts # this is the data plotted above"
   ]
  },
  {
   "cell_type": "code",
   "execution_count": 29,
   "id": "1fab11e0",
   "metadata": {},
   "outputs": [
    {
     "data": {
      "text/html": [
       "<div>\n",
       "<style scoped>\n",
       "    .dataframe tbody tr th:only-of-type {\n",
       "        vertical-align: middle;\n",
       "    }\n",
       "\n",
       "    .dataframe tbody tr th {\n",
       "        vertical-align: top;\n",
       "    }\n",
       "\n",
       "    .dataframe thead th {\n",
       "        text-align: right;\n",
       "    }\n",
       "</style>\n",
       "<table border=\"1\" class=\"dataframe\">\n",
       "  <thead>\n",
       "    <tr style=\"text-align: right;\">\n",
       "      <th></th>\n",
       "      <th>A</th>\n",
       "      <th>B</th>\n",
       "      <th>C</th>\n",
       "      <th>D</th>\n",
       "    </tr>\n",
       "  </thead>\n",
       "  <tbody>\n",
       "    <tr>\n",
       "      <th>2000-01-01</th>\n",
       "      <td>-2.246828</td>\n",
       "      <td>-0.525584</td>\n",
       "      <td>-0.475564</td>\n",
       "      <td>-2.179268</td>\n",
       "    </tr>\n",
       "    <tr>\n",
       "      <th>2000-01-02</th>\n",
       "      <td>-2.947152</td>\n",
       "      <td>0.568261</td>\n",
       "      <td>1.079754</td>\n",
       "      <td>-0.918553</td>\n",
       "    </tr>\n",
       "    <tr>\n",
       "      <th>2000-01-03</th>\n",
       "      <td>-1.657105</td>\n",
       "      <td>2.798220</td>\n",
       "      <td>0.378436</td>\n",
       "      <td>-1.328726</td>\n",
       "    </tr>\n",
       "    <tr>\n",
       "      <th>2000-01-04</th>\n",
       "      <td>-0.124150</td>\n",
       "      <td>3.013510</td>\n",
       "      <td>-0.251447</td>\n",
       "      <td>-1.908146</td>\n",
       "    </tr>\n",
       "    <tr>\n",
       "      <th>2000-01-05</th>\n",
       "      <td>-2.313701</td>\n",
       "      <td>3.524116</td>\n",
       "      <td>-1.059682</td>\n",
       "      <td>-3.308843</td>\n",
       "    </tr>\n",
       "    <tr>\n",
       "      <th>...</th>\n",
       "      <td>...</td>\n",
       "      <td>...</td>\n",
       "      <td>...</td>\n",
       "      <td>...</td>\n",
       "    </tr>\n",
       "    <tr>\n",
       "      <th>2002-09-22</th>\n",
       "      <td>-34.100957</td>\n",
       "      <td>-5.386378</td>\n",
       "      <td>-39.685880</td>\n",
       "      <td>-31.901678</td>\n",
       "    </tr>\n",
       "    <tr>\n",
       "      <th>2002-09-23</th>\n",
       "      <td>-34.918248</td>\n",
       "      <td>-4.172444</td>\n",
       "      <td>-41.921252</td>\n",
       "      <td>-33.564487</td>\n",
       "    </tr>\n",
       "    <tr>\n",
       "      <th>2002-09-24</th>\n",
       "      <td>-34.720047</td>\n",
       "      <td>-4.227091</td>\n",
       "      <td>-39.286304</td>\n",
       "      <td>-32.711114</td>\n",
       "    </tr>\n",
       "    <tr>\n",
       "      <th>2002-09-25</th>\n",
       "      <td>-35.457797</td>\n",
       "      <td>-4.552886</td>\n",
       "      <td>-40.024249</td>\n",
       "      <td>-31.123141</td>\n",
       "    </tr>\n",
       "    <tr>\n",
       "      <th>2002-09-26</th>\n",
       "      <td>-36.258019</td>\n",
       "      <td>-4.285932</td>\n",
       "      <td>-40.941103</td>\n",
       "      <td>-30.827849</td>\n",
       "    </tr>\n",
       "  </tbody>\n",
       "</table>\n",
       "<p>1000 rows × 4 columns</p>\n",
       "</div>"
      ],
      "text/plain": [
       "                    A         B          C          D\n",
       "2000-01-01  -2.246828 -0.525584  -0.475564  -2.179268\n",
       "2000-01-02  -2.947152  0.568261   1.079754  -0.918553\n",
       "2000-01-03  -1.657105  2.798220   0.378436  -1.328726\n",
       "2000-01-04  -0.124150  3.013510  -0.251447  -1.908146\n",
       "2000-01-05  -2.313701  3.524116  -1.059682  -3.308843\n",
       "...               ...       ...        ...        ...\n",
       "2002-09-22 -34.100957 -5.386378 -39.685880 -31.901678\n",
       "2002-09-23 -34.918248 -4.172444 -41.921252 -33.564487\n",
       "2002-09-24 -34.720047 -4.227091 -39.286304 -32.711114\n",
       "2002-09-25 -35.457797 -4.552886 -40.024249 -31.123141\n",
       "2002-09-26 -36.258019 -4.285932 -40.941103 -30.827849\n",
       "\n",
       "[1000 rows x 4 columns]"
      ]
     },
     "execution_count": 29,
     "metadata": {},
     "output_type": "execute_result"
    }
   ],
   "source": [
    "# here we've created a pandas dataframe again using random data, now with fours different columns 'A', 'B', 'C', and 'D'\n",
    "df = pd.DataFrame(\n",
    "    np.random.randn(1000, 4), index=ts.index, columns=[\"A\", \"B\", \"C\", \"D\"]\n",
    ")\n",
    "\n",
    "# again we apply the cumsum function\n",
    "df = df.cumsum()\n",
    "\n",
    "df"
   ]
  },
  {
   "cell_type": "code",
   "execution_count": 30,
   "id": "629e2bb9",
   "metadata": {},
   "outputs": [
    {
     "data": {
      "text/plain": [
       "<matplotlib.legend.Legend at 0x280a3cdd0>"
      ]
     },
     "execution_count": 30,
     "metadata": {},
     "output_type": "execute_result"
    },
    {
     "data": {
      "text/plain": [
       "<Figure size 640x480 with 0 Axes>"
      ]
     },
     "metadata": {},
     "output_type": "display_data"
    },
    {
     "data": {
      "image/png": "[encoded data removed]",
      "text/plain": [
       "<Figure size 640x480 with 1 Axes>"
      ]
     },
     "metadata": {},
     "output_type": "display_data"
    }
   ],
   "source": [
    "plt.figure()\n",
    "\n",
    "# we can again plot the data, only now different columns are plotted separately\n",
    "df.plot()\n",
    "\n",
    "plt.legend(loc='best') # each column is plotted as a separate line in the plot"
   ]
  },
  {
   "cell_type": "markdown",
   "id": "59211cdd",
   "metadata": {},
   "source": [
    "Data can be read into and written from pandas dataframes using formats like csv and excel files  "
   ]
  },
  {
   "cell_type": "code",
   "execution_count": 31,
   "id": "9d8bf628",
   "metadata": {},
   "outputs": [],
   "source": [
    "df.to_csv(\"foo.csv\") # writing to a file called 'foo' with type csv"
   ]
  },
  {
   "cell_type": "code",
   "execution_count": 32,
   "id": "fd0783d7",
   "metadata": {},
   "outputs": [
    {
     "data": {
      "text/html": [
       "<div>\n",
       "<style scoped>\n",
       "    .dataframe tbody tr th:only-of-type {\n",
       "        vertical-align: middle;\n",
       "    }\n",
       "\n",
       "    .dataframe tbody tr th {\n",
       "        vertical-align: top;\n",
       "    }\n",
       "\n",
       "    .dataframe thead th {\n",
       "        text-align: right;\n",
       "    }\n",
       "</style>\n",
       "<table border=\"1\" class=\"dataframe\">\n",
       "  <thead>\n",
       "    <tr style=\"text-align: right;\">\n",
       "      <th></th>\n",
       "      <th>Unnamed: 0</th>\n",
       "      <th>A</th>\n",
       "      <th>B</th>\n",
       "      <th>C</th>\n",
       "      <th>D</th>\n",
       "    </tr>\n",
       "  </thead>\n",
       "  <tbody>\n",
       "    <tr>\n",
       "      <th>0</th>\n",
       "      <td>2000-01-01</td>\n",
       "      <td>-2.246828</td>\n",
       "      <td>-0.525584</td>\n",
       "      <td>-0.475564</td>\n",
       "      <td>-2.179268</td>\n",
       "    </tr>\n",
       "    <tr>\n",
       "      <th>1</th>\n",
       "      <td>2000-01-02</td>\n",
       "      <td>-2.947152</td>\n",
       "      <td>0.568261</td>\n",
       "      <td>1.079754</td>\n",
       "      <td>-0.918553</td>\n",
       "    </tr>\n",
       "    <tr>\n",
       "      <th>2</th>\n",
       "      <td>2000-01-03</td>\n",
       "      <td>-1.657105</td>\n",
       "      <td>2.798220</td>\n",
       "      <td>0.378436</td>\n",
       "      <td>-1.328726</td>\n",
       "    </tr>\n",
       "    <tr>\n",
       "      <th>3</th>\n",
       "      <td>2000-01-04</td>\n",
       "      <td>-0.124150</td>\n",
       "      <td>3.013510</td>\n",
       "      <td>-0.251447</td>\n",
       "      <td>-1.908146</td>\n",
       "    </tr>\n",
       "    <tr>\n",
       "      <th>4</th>\n",
       "      <td>2000-01-05</td>\n",
       "      <td>-2.313701</td>\n",
       "      <td>3.524116</td>\n",
       "      <td>-1.059682</td>\n",
       "      <td>-3.308843</td>\n",
       "    </tr>\n",
       "    <tr>\n",
       "      <th>...</th>\n",
       "      <td>...</td>\n",
       "      <td>...</td>\n",
       "      <td>...</td>\n",
       "      <td>...</td>\n",
       "      <td>...</td>\n",
       "    </tr>\n",
       "    <tr>\n",
       "      <th>995</th>\n",
       "      <td>2002-09-22</td>\n",
       "      <td>-34.100957</td>\n",
       "      <td>-5.386378</td>\n",
       "      <td>-39.685880</td>\n",
       "      <td>-31.901678</td>\n",
       "    </tr>\n",
       "    <tr>\n",
       "      <th>996</th>\n",
       "      <td>2002-09-23</td>\n",
       "      <td>-34.918248</td>\n",
       "      <td>-4.172444</td>\n",
       "      <td>-41.921252</td>\n",
       "      <td>-33.564487</td>\n",
       "    </tr>\n",
       "    <tr>\n",
       "      <th>997</th>\n",
       "      <td>2002-09-24</td>\n",
       "      <td>-34.720047</td>\n",
       "      <td>-4.227091</td>\n",
       "      <td>-39.286304</td>\n",
       "      <td>-32.711114</td>\n",
       "    </tr>\n",
       "    <tr>\n",
       "      <th>998</th>\n",
       "      <td>2002-09-25</td>\n",
       "      <td>-35.457797</td>\n",
       "      <td>-4.552886</td>\n",
       "      <td>-40.024249</td>\n",
       "      <td>-31.123141</td>\n",
       "    </tr>\n",
       "    <tr>\n",
       "      <th>999</th>\n",
       "      <td>2002-09-26</td>\n",
       "      <td>-36.258019</td>\n",
       "      <td>-4.285932</td>\n",
       "      <td>-40.941103</td>\n",
       "      <td>-30.827849</td>\n",
       "    </tr>\n",
       "  </tbody>\n",
       "</table>\n",
       "<p>1000 rows × 5 columns</p>\n",
       "</div>"
      ],
      "text/plain": [
       "     Unnamed: 0          A         B          C          D\n",
       "0    2000-01-01  -2.246828 -0.525584  -0.475564  -2.179268\n",
       "1    2000-01-02  -2.947152  0.568261   1.079754  -0.918553\n",
       "2    2000-01-03  -1.657105  2.798220   0.378436  -1.328726\n",
       "3    2000-01-04  -0.124150  3.013510  -0.251447  -1.908146\n",
       "4    2000-01-05  -2.313701  3.524116  -1.059682  -3.308843\n",
       "..          ...        ...       ...        ...        ...\n",
       "995  2002-09-22 -34.100957 -5.386378 -39.685880 -31.901678\n",
       "996  2002-09-23 -34.918248 -4.172444 -41.921252 -33.564487\n",
       "997  2002-09-24 -34.720047 -4.227091 -39.286304 -32.711114\n",
       "998  2002-09-25 -35.457797 -4.552886 -40.024249 -31.123141\n",
       "999  2002-09-26 -36.258019 -4.285932 -40.941103 -30.827849\n",
       "\n",
       "[1000 rows x 5 columns]"
      ]
     },
     "execution_count": 32,
     "metadata": {},
     "output_type": "execute_result"
    }
   ],
   "source": [
    "df2 = pd.read_csv(\"foo.csv\") # reading from a csv file called 'foo'\n",
    "\n",
    "# we can view the imported dataframe\n",
    "df2"
   ]
  },
  {
   "cell_type": "markdown",
   "id": "91c3458c",
   "metadata": {},
   "source": [
    "As with numpy, most of your questions about pandas can be answered with some good googling!"
   ]
  },
  {
   "cell_type": "markdown",
   "id": "dd802e84",
   "metadata": {},
   "source": [
    "## scikit-learn\n",
    "\n",
    "scikit-learn is a library used for tackling machine learning problems. It implements a number of supervised and unsupervised learning algorithms. The documentation is available at https://scikit-learn.org/stable/, and these examples are taken from https://scikit-learn.org/stable/tutorial/basic/tutorial.html.\n",
    "\n",
    "Here, we import some example data from the library and fit a support vector machine (SVM) to classify what digits certain images show."
   ]
  },
  {
   "cell_type": "code",
   "execution_count": 33,
   "id": "1ca44956",
   "metadata": {},
   "outputs": [],
   "source": [
    "# we import 'datasets' from sklearn and load the 'digits' data\n",
    "from sklearn import datasets\n",
    "digits = datasets.load_digits()"
   ]
  },
  {
   "cell_type": "markdown",
   "id": "fde8ba53",
   "metadata": {},
   "source": [
    "We have a features data set (digits.data) and a targets data set (digits.target)."
   ]
  },
  {
   "cell_type": "code",
   "execution_count": 34,
   "id": "a226bd57",
   "metadata": {},
   "outputs": [
    {
     "name": "stdout",
     "output_type": "stream",
     "text": [
      "[[ 0.  0.  5. ...  0.  0.  0.]\n",
      " [ 0.  0.  0. ... 10.  0.  0.]\n",
      " [ 0.  0.  0. ... 16.  9.  0.]\n",
      " ...\n",
      " [ 0.  0.  1. ...  6.  0.  0.]\n",
      " [ 0.  0.  2. ... 12.  0.  0.]\n",
      " [ 0.  0. 10. ... 12.  1.  0.]]\n"
     ]
    }
   ],
   "source": [
    "print(digits.data)"
   ]
  },
  {
   "cell_type": "code",
   "execution_count": 35,
   "id": "b10156cb",
   "metadata": {},
   "outputs": [
    {
     "data": {
      "text/plain": [
       "array([0, 1, 2, ..., 8, 9, 8])"
      ]
     },
     "execution_count": 35,
     "metadata": {},
     "output_type": "execute_result"
    }
   ],
   "source": [
    "digits.target"
   ]
  },
  {
   "cell_type": "markdown",
   "id": "453e0804",
   "metadata": {},
   "source": [
    "We can learn a model using 'fit', and then estimate targets based on unseen features using 'predict'. In this case, we use all data except the last sample to build the model, and then predict on the last. The model predicts that this last digit is '8'."
   ]
  },
  {
   "cell_type": "code",
   "execution_count": 36,
   "id": "ad804bfb",
   "metadata": {},
   "outputs": [
    {
     "data": {
      "text/html": [
       "<style>#sk-container-id-1 {\n",
       "  /* Definition of color scheme common for light and dark mode */\n",
       "  --sklearn-color-text: black;\n",
       "  --sklearn-color-line: gray;\n",
       "  /* Definition of color scheme for unfitted estimators */\n",
       "  --sklearn-color-unfitted-level-0: #fff5e6;\n",
       "  --sklearn-color-unfitted-level-1: #f6e4d2;\n",
       "  --sklearn-color-unfitted-level-2: #ffe0b3;\n",
       "  --sklearn-color-unfitted-level-3: chocolate;\n",
       "  /* Definition of color scheme for fitted estimators */\n",
       "  --sklearn-color-fitted-level-0: #f0f8ff;\n",
       "  --sklearn-color-fitted-level-1: #d4ebff;\n",
       "  --sklearn-color-fitted-level-2: #b3dbfd;\n",
       "  --sklearn-color-fitted-level-3: cornflowerblue;\n",
       "\n",
       "  /* Specific color for light theme */\n",
       "  --sklearn-color-text-on-default-background: var(--sg-text-color, var(--theme-code-foreground, var(--jp-content-font-color1, black)));\n",
       "  --sklearn-color-background: var(--sg-background-color, var(--theme-background, var(--jp-layout-color0, white)));\n",
       "  --sklearn-color-border-box: var(--sg-text-color, var(--theme-code-foreground, var(--jp-content-font-color1, black)));\n",
       "  --sklearn-color-icon: #696969;\n",
       "\n",
       "  @media (prefers-color-scheme: dark) {\n",
       "    /* Redefinition of color scheme for dark theme */\n",
       "    --sklearn-color-text-on-default-background: var(--sg-text-color, var(--theme-code-foreground, var(--jp-content-font-color1, white)));\n",
       "    --sklearn-color-background: var(--sg-background-color, var(--theme-background, var(--jp-layout-color0, #111)));\n",
       "    --sklearn-color-border-box: var(--sg-text-color, var(--theme-code-foreground, var(--jp-content-font-color1, white)));\n",
       "    --sklearn-color-icon: #878787;\n",
       "  }\n",
       "}\n",
       "\n",
       "#sk-container-id-1 {\n",
       "  color: var(--sklearn-color-text);\n",
       "}\n",
       "\n",
       "#sk-container-id-1 pre {\n",
       "  padding: 0;\n",
       "}\n",
       "\n",
       "#sk-container-id-1 input.sk-hidden--visually {\n",
       "  border: 0;\n",
       "  clip: rect(1px 1px 1px 1px);\n",
       "  clip: rect(1px, 1px, 1px, 1px);\n",
       "  height: 1px;\n",
       "  margin: -1px;\n",
       "  overflow: hidden;\n",
       "  padding: 0;\n",
       "  position: absolute;\n",
       "  width: 1px;\n",
       "}\n",
       "\n",
       "#sk-container-id-1 div.sk-dashed-wrapped {\n",
       "  border: 1px dashed var(--sklearn-color-line);\n",
       "  margin: 0 0.4em 0.5em 0.4em;\n",
       "  box-sizing: border-box;\n",
       "  padding-bottom: 0.4em;\n",
       "  background-color: var(--sklearn-color-background);\n",
       "}\n",
       "\n",
       "#sk-container-id-1 div.sk-container {\n",
       "  /* jupyter's `normalize.less` sets `[hidden] { display: none; }`\n",
       "     but bootstrap.min.css set `[hidden] { display: none !important; }`\n",
       "     so we also need the `!important` here to be able to override the\n",
       "     default hidden behavior on the sphinx rendered scikit-learn.org.\n",
       "     See: https://github.com/scikit-learn/scikit-learn/issues/21755 */\n",
       "  display: inline-block !important;\n",
       "  position: relative;\n",
       "}\n",
       "\n",
       "#sk-container-id-1 div.sk-text-repr-fallback {\n",
       "  display: none;\n",
       "}\n",
       "\n",
       "div.sk-parallel-item,\n",
       "div.sk-serial,\n",
       "div.sk-item {\n",
       "  /* draw centered vertical line to link estimators */\n",
       "  background-image: linear-gradient(var(--sklearn-color-text-on-default-background), var(--sklearn-color-text-on-default-background));\n",
       "  background-size: 2px 100%;\n",
       "  background-repeat: no-repeat;\n",
       "  background-position: center center;\n",
       "}\n",
       "\n",
       "/* Parallel-specific style estimator block */\n",
       "\n",
       "#sk-container-id-1 div.sk-parallel-item::after {\n",
       "  content: \"\";\n",
       "  width: 100%;\n",
       "  border-bottom: 2px solid var(--sklearn-color-text-on-default-background);\n",
       "  flex-grow: 1;\n",
       "}\n",
       "\n",
       "#sk-container-id-1 div.sk-parallel {\n",
       "  display: flex;\n",
       "  align-items: stretch;\n",
       "  justify-content: center;\n",
       "  background-color: var(--sklearn-color-background);\n",
       "  position: relative;\n",
       "}\n",
       "\n",
       "#sk-container-id-1 div.sk-parallel-item {\n",
       "  display: flex;\n",
       "  flex-direction: column;\n",
       "}\n",
       "\n",
       "#sk-container-id-1 div.sk-parallel-item:first-child::after {\n",
       "  align-self: flex-end;\n",
       "  width: 50%;\n",
       "}\n",
       "\n",
       "#sk-container-id-1 div.sk-parallel-item:last-child::after {\n",
       "  align-self: flex-start;\n",
       "  width: 50%;\n",
       "}\n",
       "\n",
       "#sk-container-id-1 div.sk-parallel-item:only-child::after {\n",
       "  width: 0;\n",
       "}\n",
       "\n",
       "/* Serial-specific style estimator block */\n",
       "\n",
       "#sk-container-id-1 div.sk-serial {\n",
       "  display: flex;\n",
       "  flex-direction: column;\n",
       "  align-items: center;\n",
       "  background-color: var(--sklearn-color-background);\n",
       "  padding-right: 1em;\n",
       "  padding-left: 1em;\n",
       "}\n",
       "\n",
       "\n",
       "/* Toggleable style: style used for estimator/Pipeline/ColumnTransformer box that is\n",
       "clickable and can be expanded/collapsed.\n",
       "- Pipeline and ColumnTransformer use this feature and define the default style\n",
       "- Estimators will overwrite some part of the style using the `sk-estimator` class\n",
       "*/\n",
       "\n",
       "/* Pipeline and ColumnTransformer style (default) */\n",
       "\n",
       "#sk-container-id-1 div.sk-toggleable {\n",
       "  /* Default theme specific background. It is overwritten whether we have a\n",
       "  specific estimator or a Pipeline/ColumnTransformer */\n",
       "  background-color: var(--sklearn-color-background);\n",
       "}\n",
       "\n",
       "/* Toggleable label */\n",
       "#sk-container-id-1 label.sk-toggleable__label {\n",
       "  cursor: pointer;\n",
       "  display: block;\n",
       "  width: 100%;\n",
       "  margin-bottom: 0;\n",
       "  padding: 0.5em;\n",
       "  box-sizing: border-box;\n",
       "  text-align: center;\n",
       "}\n",
       "\n",
       "#sk-container-id-1 label.sk-toggleable__label-arrow:before {\n",
       "  /* Arrow on the left of the label */\n",
       "  content: \"▸\";\n",
       "  float: left;\n",
       "  margin-right: 0.25em;\n",
       "  color: var(--sklearn-color-icon);\n",
       "}\n",
       "\n",
       "#sk-container-id-1 label.sk-toggleable__label-arrow:hover:before {\n",
       "  color: var(--sklearn-color-text);\n",
       "}\n",
       "\n",
       "/* Toggleable content - dropdown */\n",
       "\n",
       "#sk-container-id-1 div.sk-toggleable__content {\n",
       "  max-height: 0;\n",
       "  max-width: 0;\n",
       "  overflow: hidden;\n",
       "  text-align: left;\n",
       "  /* unfitted */\n",
       "  background-color: var(--sklearn-color-unfitted-level-0);\n",
       "}\n",
       "\n",
       "#sk-container-id-1 div.sk-toggleable__content.fitted {\n",
       "  /* fitted */\n",
       "  background-color: var(--sklearn-color-fitted-level-0);\n",
       "}\n",
       "\n",
       "#sk-container-id-1 div.sk-toggleable__content pre {\n",
       "  margin: 0.2em;\n",
       "  border-radius: 0.25em;\n",
       "  color: var(--sklearn-color-text);\n",
       "  /* unfitted */\n",
       "  background-color: var(--sklearn-color-unfitted-level-0);\n",
       "}\n",
       "\n",
       "#sk-container-id-1 div.sk-toggleable__content.fitted pre {\n",
       "  /* unfitted */\n",
       "  background-color: var(--sklearn-color-fitted-level-0);\n",
       "}\n",
       "\n",
       "#sk-container-id-1 input.sk-toggleable__control:checked~div.sk-toggleable__content {\n",
       "  /* Expand drop-down */\n",
       "  max-height: 200px;\n",
       "  max-width: 100%;\n",
       "  overflow: auto;\n",
       "}\n",
       "\n",
       "#sk-container-id-1 input.sk-toggleable__control:checked~label.sk-toggleable__label-arrow:before {\n",
       "  content: \"▾\";\n",
       "}\n",
       "\n",
       "/* Pipeline/ColumnTransformer-specific style */\n",
       "\n",
       "#sk-container-id-1 div.sk-label input.sk-toggleable__control:checked~label.sk-toggleable__label {\n",
       "  color: var(--sklearn-color-text);\n",
       "  background-color: var(--sklearn-color-unfitted-level-2);\n",
       "}\n",
       "\n",
       "#sk-container-id-1 div.sk-label.fitted input.sk-toggleable__control:checked~label.sk-toggleable__label {\n",
       "  background-color: var(--sklearn-color-fitted-level-2);\n",
       "}\n",
       "\n",
       "/* Estimator-specific style */\n",
       "\n",
       "/* Colorize estimator box */\n",
       "#sk-container-id-1 div.sk-estimator input.sk-toggleable__control:checked~label.sk-toggleable__label {\n",
       "  /* unfitted */\n",
       "  background-color: var(--sklearn-color-unfitted-level-2);\n",
       "}\n",
       "\n",
       "#sk-container-id-1 div.sk-estimator.fitted input.sk-toggleable__control:checked~label.sk-toggleable__label {\n",
       "  /* fitted */\n",
       "  background-color: var(--sklearn-color-fitted-level-2);\n",
       "}\n",
       "\n",
       "#sk-container-id-1 div.sk-label label.sk-toggleable__label,\n",
       "#sk-container-id-1 div.sk-label label {\n",
       "  /* The background is the default theme color */\n",
       "  color: var(--sklearn-color-text-on-default-background);\n",
       "}\n",
       "\n",
       "/* On hover, darken the color of the background */\n",
       "#sk-container-id-1 div.sk-label:hover label.sk-toggleable__label {\n",
       "  color: var(--sklearn-color-text);\n",
       "  background-color: var(--sklearn-color-unfitted-level-2);\n",
       "}\n",
       "\n",
       "/* Label box, darken color on hover, fitted */\n",
       "#sk-container-id-1 div.sk-label.fitted:hover label.sk-toggleable__label.fitted {\n",
       "  color: var(--sklearn-color-text);\n",
       "  background-color: var(--sklearn-color-fitted-level-2);\n",
       "}\n",
       "\n",
       "/* Estimator label */\n",
       "\n",
       "#sk-container-id-1 div.sk-label label {\n",
       "  font-family: monospace;\n",
       "  font-weight: bold;\n",
       "  display: inline-block;\n",
       "  line-height: 1.2em;\n",
       "}\n",
       "\n",
       "#sk-container-id-1 div.sk-label-container {\n",
       "  text-align: center;\n",
       "}\n",
       "\n",
       "/* Estimator-specific */\n",
       "#sk-container-id-1 div.sk-estimator {\n",
       "  font-family: monospace;\n",
       "  border: 1px dotted var(--sklearn-color-border-box);\n",
       "  border-radius: 0.25em;\n",
       "  box-sizing: border-box;\n",
       "  margin-bottom: 0.5em;\n",
       "  /* unfitted */\n",
       "  background-color: var(--sklearn-color-unfitted-level-0);\n",
       "}\n",
       "\n",
       "#sk-container-id-1 div.sk-estimator.fitted {\n",
       "  /* fitted */\n",
       "  background-color: var(--sklearn-color-fitted-level-0);\n",
       "}\n",
       "\n",
       "/* on hover */\n",
       "#sk-container-id-1 div.sk-estimator:hover {\n",
       "  /* unfitted */\n",
       "  background-color: var(--sklearn-color-unfitted-level-2);\n",
       "}\n",
       "\n",
       "#sk-container-id-1 div.sk-estimator.fitted:hover {\n",
       "  /* fitted */\n",
       "  background-color: var(--sklearn-color-fitted-level-2);\n",
       "}\n",
       "\n",
       "/* Specification for estimator info (e.g. \"i\" and \"?\") */\n",
       "\n",
       "/* Common style for \"i\" and \"?\" */\n",
       "\n",
       ".sk-estimator-doc-link,\n",
       "a:link.sk-estimator-doc-link,\n",
       "a:visited.sk-estimator-doc-link {\n",
       "  float: right;\n",
       "  font-size: smaller;\n",
       "  line-height: 1em;\n",
       "  font-family: monospace;\n",
       "  background-color: var(--sklearn-color-background);\n",
       "  border-radius: 1em;\n",
       "  height: 1em;\n",
       "  width: 1em;\n",
       "  text-decoration: none !important;\n",
       "  margin-left: 1ex;\n",
       "  /* unfitted */\n",
       "  border: var(--sklearn-color-unfitted-level-1) 1pt solid;\n",
       "  color: var(--sklearn-color-unfitted-level-1);\n",
       "}\n",
       "\n",
       ".sk-estimator-doc-link.fitted,\n",
       "a:link.sk-estimator-doc-link.fitted,\n",
       "a:visited.sk-estimator-doc-link.fitted {\n",
       "  /* fitted */\n",
       "  border: var(--sklearn-color-fitted-level-1) 1pt solid;\n",
       "  color: var(--sklearn-color-fitted-level-1);\n",
       "}\n",
       "\n",
       "/* On hover */\n",
       "div.sk-estimator:hover .sk-estimator-doc-link:hover,\n",
       ".sk-estimator-doc-link:hover,\n",
       "div.sk-label-container:hover .sk-estimator-doc-link:hover,\n",
       ".sk-estimator-doc-link:hover {\n",
       "  /* unfitted */\n",
       "  background-color: var(--sklearn-color-unfitted-level-3);\n",
       "  color: var(--sklearn-color-background);\n",
       "  text-decoration: none;\n",
       "}\n",
       "\n",
       "div.sk-estimator.fitted:hover .sk-estimator-doc-link.fitted:hover,\n",
       ".sk-estimator-doc-link.fitted:hover,\n",
       "div.sk-label-container:hover .sk-estimator-doc-link.fitted:hover,\n",
       ".sk-estimator-doc-link.fitted:hover {\n",
       "  /* fitted */\n",
       "  background-color: var(--sklearn-color-fitted-level-3);\n",
       "  color: var(--sklearn-color-background);\n",
       "  text-decoration: none;\n",
       "}\n",
       "\n",
       "/* Span, style for the box shown on hovering the info icon */\n",
       ".sk-estimator-doc-link span {\n",
       "  display: none;\n",
       "  z-index: 9999;\n",
       "  position: relative;\n",
       "  font-weight: normal;\n",
       "  right: .2ex;\n",
       "  padding: .5ex;\n",
       "  margin: .5ex;\n",
       "  width: min-content;\n",
       "  min-width: 20ex;\n",
       "  max-width: 50ex;\n",
       "  color: var(--sklearn-color-text);\n",
       "  box-shadow: 2pt 2pt 4pt #999;\n",
       "  /* unfitted */\n",
       "  background: var(--sklearn-color-unfitted-level-0);\n",
       "  border: .5pt solid var(--sklearn-color-unfitted-level-3);\n",
       "}\n",
       "\n",
       ".sk-estimator-doc-link.fitted span {\n",
       "  /* fitted */\n",
       "  background: var(--sklearn-color-fitted-level-0);\n",
       "  border: var(--sklearn-color-fitted-level-3);\n",
       "}\n",
       "\n",
       ".sk-estimator-doc-link:hover span {\n",
       "  display: block;\n",
       "}\n",
       "\n",
       "/* \"?\"-specific style due to the `<a>` HTML tag */\n",
       "\n",
       "#sk-container-id-1 a.estimator_doc_link {\n",
       "  float: right;\n",
       "  font-size: 1rem;\n",
       "  line-height: 1em;\n",
       "  font-family: monospace;\n",
       "  background-color: var(--sklearn-color-background);\n",
       "  border-radius: 1rem;\n",
       "  height: 1rem;\n",
       "  width: 1rem;\n",
       "  text-decoration: none;\n",
       "  /* unfitted */\n",
       "  color: var(--sklearn-color-unfitted-level-1);\n",
       "  border: var(--sklearn-color-unfitted-level-1) 1pt solid;\n",
       "}\n",
       "\n",
       "#sk-container-id-1 a.estimator_doc_link.fitted {\n",
       "  /* fitted */\n",
       "  border: var(--sklearn-color-fitted-level-1) 1pt solid;\n",
       "  color: var(--sklearn-color-fitted-level-1);\n",
       "}\n",
       "\n",
       "/* On hover */\n",
       "#sk-container-id-1 a.estimator_doc_link:hover {\n",
       "  /* unfitted */\n",
       "  background-color: var(--sklearn-color-unfitted-level-3);\n",
       "  color: var(--sklearn-color-background);\n",
       "  text-decoration: none;\n",
       "}\n",
       "\n",
       "#sk-container-id-1 a.estimator_doc_link.fitted:hover {\n",
       "  /* fitted */\n",
       "  background-color: var(--sklearn-color-fitted-level-3);\n",
       "}\n",
       "</style><div id=\"sk-container-id-1\" class=\"sk-top-container\"><div class=\"sk-text-repr-fallback\"><pre>SVC(C=100.0, gamma=0.001)</pre><b>In a Jupyter environment, please rerun this cell to show the HTML representation or trust the notebook. <br />On GitHub, the HTML representation is unable to render, please try loading this page with nbviewer.org.</b></div><div class=\"sk-container\" hidden><div class=\"sk-item\"><div class=\"sk-estimator fitted sk-toggleable\"><input class=\"sk-toggleable__control sk-hidden--visually\" id=\"sk-estimator-id-1\" type=\"checkbox\" checked><label for=\"sk-estimator-id-1\" class=\"sk-toggleable__label fitted sk-toggleable__label-arrow fitted\">&nbsp;&nbsp;SVC<a class=\"sk-estimator-doc-link fitted\" rel=\"noreferrer\" target=\"_blank\" href=\"https://scikit-learn.org/1.5/modules/generated/sklearn.svm.SVC.html\">?<span>Documentation for SVC</span></a><span class=\"sk-estimator-doc-link fitted\">i<span>Fitted</span></span></label><div class=\"sk-toggleable__content fitted\"><pre>SVC(C=100.0, gamma=0.001)</pre></div> </div></div></div></div>"
      ],
      "text/plain": [
       "SVC(C=100.0, gamma=0.001)"
      ]
     },
     "execution_count": 36,
     "metadata": {},
     "output_type": "execute_result"
    }
   ],
   "source": [
    "from sklearn import svm\n",
    "# we create a svm.SVC object called 'clf'\n",
    "clf = svm.SVC(gamma=0.001, C=100.)\n",
    "\n",
    "# we fit the model using the 'digits' data, leaving out the last data point\n",
    "clf.fit(digits.data[:-1], digits.target[:-1])"
   ]
  },
  {
   "cell_type": "code",
   "execution_count": 37,
   "id": "1c7508df",
   "metadata": {},
   "outputs": [
    {
     "data": {
      "text/plain": [
       "array([8])"
      ]
     },
     "execution_count": 37,
     "metadata": {},
     "output_type": "execute_result"
    }
   ],
   "source": [
    "# we can now use our fitted model to predict the last data point\n",
    "clf.predict(digits.data[-1:])"
   ]
  },
  {
   "cell_type": "markdown",
   "id": "67468490",
   "metadata": {},
   "source": [
    "## DoWhy\n",
    "\n",
    "DoWhy (https://www.pywhy.org/dowhy/v0.9.1/) is a Python library designed for performing causal inference. This is one of the main libraries we will be using in this course. It allows one quickly to identify and test causal relationships based on data and a causal graph.\n",
    "\n",
    "You will first need to install the library using:\n",
    "pip install dowhy"
   ]
  },
  {
   "cell_type": "markdown",
   "id": "7c80bcb2",
   "metadata": {},
   "source": [
    "We will go through the example at https://www.pywhy.org/dowhy/v0.9.1/getting_started/index.html to get a basic overview of the library. It is not expected that you understand all steps of this process now, as this is what you will be learning through the course."
   ]
  },
  {
   "cell_type": "code",
   "execution_count": 3,
   "id": "8b87def6",
   "metadata": {},
   "outputs": [],
   "source": [
    "# we import the 'dowhy' library, the 'CausalModel' class, and 'dowhy.datasets' (this last for generated simulated data to test)\n",
    "import dowhy\n",
    "import pandas as pd\n",
    "from dowhy import CausalModel\n",
    "import dowhy.datasets\n",
    "\n",
    "# the code below simple hides some warnings we don't want to see\n",
    "import warnings\n",
    "from sklearn.exceptions import DataConversionWarning\n",
    "warnings.filterwarnings(action='ignore', category=DataConversionWarning)\n",
    "warnings.filterwarnings(action='ignore', category=FutureWarning)"
   ]
  },
  {
   "cell_type": "markdown",
   "id": "f98a7a05",
   "metadata": {},
   "source": [
    "We use a data generator from DoWhy to create a simulated data set where 'beta' is the true causal effect. This data also has a causal graph associated with it."
   ]
  },
  {
   "cell_type": "code",
   "execution_count": 13,
   "id": "aca49afb",
   "metadata": {},
   "outputs": [
    {
     "data": {
      "text/html": [
       "<div>\n",
       "<style scoped>\n",
       "    .dataframe tbody tr th:only-of-type {\n",
       "        vertical-align: middle;\n",
       "    }\n",
       "\n",
       "    .dataframe tbody tr th {\n",
       "        vertical-align: top;\n",
       "    }\n",
       "\n",
       "    .dataframe thead th {\n",
       "        text-align: right;\n",
       "    }\n",
       "</style>\n",
       "<table border=\"1\" class=\"dataframe\">\n",
       "  <thead>\n",
       "    <tr style=\"text-align: right;\">\n",
       "      <th></th>\n",
       "      <th>treat</th>\n",
       "      <th>age</th>\n",
       "      <th>education</th>\n",
       "      <th>black</th>\n",
       "      <th>hispanic</th>\n",
       "      <th>married</th>\n",
       "      <th>nodegree</th>\n",
       "      <th>re75</th>\n",
       "      <th>re78</th>\n",
       "    </tr>\n",
       "  </thead>\n",
       "  <tbody>\n",
       "    <tr>\n",
       "      <th>0</th>\n",
       "      <td>1.0</td>\n",
       "      <td>37.0</td>\n",
       "      <td>11.0</td>\n",
       "      <td>1.0</td>\n",
       "      <td>0.0</td>\n",
       "      <td>1.0</td>\n",
       "      <td>1.0</td>\n",
       "      <td>0.0</td>\n",
       "      <td>9930.0460</td>\n",
       "    </tr>\n",
       "    <tr>\n",
       "      <th>1</th>\n",
       "      <td>1.0</td>\n",
       "      <td>22.0</td>\n",
       "      <td>9.0</td>\n",
       "      <td>0.0</td>\n",
       "      <td>1.0</td>\n",
       "      <td>0.0</td>\n",
       "      <td>1.0</td>\n",
       "      <td>0.0</td>\n",
       "      <td>3595.8940</td>\n",
       "    </tr>\n",
       "    <tr>\n",
       "      <th>2</th>\n",
       "      <td>1.0</td>\n",
       "      <td>30.0</td>\n",
       "      <td>12.0</td>\n",
       "      <td>1.0</td>\n",
       "      <td>0.0</td>\n",
       "      <td>0.0</td>\n",
       "      <td>0.0</td>\n",
       "      <td>0.0</td>\n",
       "      <td>24909.4500</td>\n",
       "    </tr>\n",
       "    <tr>\n",
       "      <th>3</th>\n",
       "      <td>1.0</td>\n",
       "      <td>27.0</td>\n",
       "      <td>11.0</td>\n",
       "      <td>1.0</td>\n",
       "      <td>0.0</td>\n",
       "      <td>0.0</td>\n",
       "      <td>1.0</td>\n",
       "      <td>0.0</td>\n",
       "      <td>7506.1460</td>\n",
       "    </tr>\n",
       "    <tr>\n",
       "      <th>4</th>\n",
       "      <td>1.0</td>\n",
       "      <td>33.0</td>\n",
       "      <td>8.0</td>\n",
       "      <td>1.0</td>\n",
       "      <td>0.0</td>\n",
       "      <td>0.0</td>\n",
       "      <td>1.0</td>\n",
       "      <td>0.0</td>\n",
       "      <td>289.7899</td>\n",
       "    </tr>\n",
       "  </tbody>\n",
       "</table>\n",
       "</div>"
      ],
      "text/plain": [
       "   treat   age  education  black  hispanic  married  nodegree  re75  \\\n",
       "0    1.0  37.0       11.0    1.0       0.0      1.0       1.0   0.0   \n",
       "1    1.0  22.0        9.0    0.0       1.0      0.0       1.0   0.0   \n",
       "2    1.0  30.0       12.0    1.0       0.0      0.0       0.0   0.0   \n",
       "3    1.0  27.0       11.0    1.0       0.0      0.0       1.0   0.0   \n",
       "4    1.0  33.0        8.0    1.0       0.0      0.0       1.0   0.0   \n",
       "\n",
       "         re78  \n",
       "0   9930.0460  \n",
       "1   3595.8940  \n",
       "2  24909.4500  \n",
       "3   7506.1460  \n",
       "4    289.7899  "
      ]
     },
     "execution_count": 13,
     "metadata": {},
     "output_type": "execute_result"
    }
   ],
   "source": [
    "# data = dowhy.datasets.linear_dataset(beta=10,\n",
    "#         num_common_causes=5,\n",
    "#         num_instruments = 2,\n",
    "#         num_samples=10000,\n",
    "#         treatment_is_binary=True)\n",
    "\n",
    "# # we extract the generated dataframe, and name it 'df'\n",
    "# df = data[\"df\"]\n",
    "def gml_to_string(file):\n",
    "    gml_str = ''\n",
    "    with open(file, 'r') as file:\n",
    "        for line in file:\n",
    "            gml_str += line.rstrip()\n",
    "    return gml_str\n",
    "df=pd.read_csv('lalonde_data.csv')\n",
    "gml_graph = gml_to_string('frontdoor_criterion_graph.gml')\n",
    "# we can view the first few entries in the dataframe\n",
    "df.head()"
   ]
  },
  {
   "cell_type": "markdown",
   "id": "106aa2c8",
   "metadata": {},
   "source": [
    "There is also a causal graph for this data, and we can view it in two different formats: 'dot graph' and 'gml graph'"
   ]
  },
  {
   "cell_type": "code",
   "execution_count": 7,
   "id": "791be532",
   "metadata": {},
   "outputs": [],
   "source": [
    "# print(data[\"dot_graph\"])"
   ]
  },
  {
   "cell_type": "code",
   "execution_count": 8,
   "id": "1fdf2717",
   "metadata": {},
   "outputs": [],
   "source": [
    "# print(data[\"gml_graph\"])"
   ]
  },
  {
   "cell_type": "markdown",
   "id": "a179c56f",
   "metadata": {},
   "source": [
    "We create a causal model with the data, the treatment variable, the outcome variable, and the causal graph."
   ]
  },
  {
   "cell_type": "code",
   "execution_count": 18,
   "id": "4c8db624",
   "metadata": {},
   "outputs": [],
   "source": [
    "# # With graph\n",
    "model=CausalModel(\n",
    "        data = df,\n",
    "        treatment='treat',\n",
    "        outcome='re78',\n",
    "       graph=gml_graph\n",
    "        )"
   ]
  },
  {
   "cell_type": "code",
   "execution_count": 19,
   "id": "9b835489",
   "metadata": {},
   "outputs": [
    {
     "data": {
      "image/png": "[encoded data removed]",
      "text/plain": [
       "<Figure size 800x600 with 1 Axes>"
      ]
     },
     "metadata": {},
     "output_type": "display_data"
    }
   ],
   "source": [
    "# we can visualise the model/graph\n",
    "model.view_model()"
   ]
  },
  {
   "cell_type": "markdown",
   "id": "ae92e59a",
   "metadata": {},
   "source": [
    "Based on the graph, we can identify computable expressions based on the graph only. We can then evaluate these expressions in the next step."
   ]
  },
  {
   "cell_type": "code",
   "execution_count": 20,
   "id": "6437e33e",
   "metadata": {},
   "outputs": [
    {
     "name": "stdout",
     "output_type": "stream",
     "text": [
      "Estimand type: EstimandType.NONPARAMETRIC_ATE\n",
      "\n",
      "### Estimand : 1\n",
      "Estimand name: backdoor\n",
      "Estimand expression:\n",
      "   d                                                                \n",
      "────────(E[re78|married,education,black,age,nodegree,re75,hispanic])\n",
      "d[treat]                                                            \n",
      "Estimand assumption 1, Unconfoundedness: If U→{treat} and U→re78 then P(re78|treat,married,education,black,age,nodegree,re75,hispanic,U) = P(re78|treat,married,education,black,age,nodegree,re75,hispanic)\n",
      "\n",
      "### Estimand : 2\n",
      "Estimand name: iv\n",
      "No such variable(s) found!\n",
      "\n",
      "### Estimand : 3\n",
      "Estimand name: frontdoor\n",
      "No such variable(s) found!\n",
      "\n"
     ]
    }
   ],
   "source": [
    "identified_estimand = model.identify_effect()\n",
    "print(identified_estimand)"
   ]
  },
  {
   "cell_type": "markdown",
   "id": "803e4819",
   "metadata": {},
   "source": [
    "We can calculate a causal estimate based on the data and the expressions found in the previous step."
   ]
  },
  {
   "cell_type": "code",
   "execution_count": 21,
   "id": "753ef502",
   "metadata": {},
   "outputs": [
    {
     "name": "stdout",
     "output_type": "stream",
     "text": [
      "*** Causal Estimate ***\n",
      "\n",
      "## Identified estimand\n",
      "Estimand type: EstimandType.NONPARAMETRIC_ATE\n",
      "\n",
      "### Estimand : 1\n",
      "Estimand name: backdoor\n",
      "Estimand expression:\n",
      "   d                                                                \n",
      "────────(E[re78|married,education,black,age,nodegree,re75,hispanic])\n",
      "d[treat]                                                            \n",
      "Estimand assumption 1, Unconfoundedness: If U→{treat} and U→re78 then P(re78|treat,married,education,black,age,nodegree,re75,hispanic,U) = P(re78|treat,married,education,black,age,nodegree,re75,hispanic)\n",
      "\n",
      "## Realized estimand\n",
      "b: re78~treat+married+education+black+age+nodegree+re75+hispanic\n",
      "Target units: ate\n",
      "\n",
      "## Estimate\n",
      "Mean value: 586.8030686967044\n",
      "\n",
      "Causal Estimate is 586.8030686967044\n"
     ]
    },
    {
     "name": "stderr",
     "output_type": "stream",
     "text": [
      "/Users/sohamchatterjee/miniforge3/envs/DL1_cpu/lib/python3.11/site-packages/sklearn/linear_model/_logistic.py:469: ConvergenceWarning: lbfgs failed to converge (status=1):\n",
      "STOP: TOTAL NO. of ITERATIONS REACHED LIMIT.\n",
      "\n",
      "Increase the number of iterations (max_iter) or scale the data as shown in:\n",
      "    https://scikit-learn.org/stable/modules/preprocessing.html\n",
      "Please also refer to the documentation for alternative solver options:\n",
      "    https://scikit-learn.org/stable/modules/linear_model.html#logistic-regression\n",
      "  n_iter_i = _check_optimize_result(\n"
     ]
    }
   ],
   "source": [
    "causal_estimate = model.estimate_effect(identified_estimand,\n",
    "        method_name=\"backdoor.propensity_score_stratification\")\n",
    "print(causal_estimate)\n",
    "print(\"Causal Estimate is \" + str(causal_estimate.value))"
   ]
  },
  {
   "cell_type": "markdown",
   "id": "5d1fe4b0",
   "metadata": {},
   "source": [
    "Finally, there are a number of techniques we can apply to test whether the estimate is accurate when adding in noise, downsampling, etc."
   ]
  },
  {
   "cell_type": "code",
   "execution_count": 22,
   "id": "5d4fc297",
   "metadata": {},
   "outputs": [
    {
     "name": "stdout",
     "output_type": "stream",
     "text": [
      "Refute: Add a random common cause\n",
      "Estimated effect:586.8030686967044\n",
      "New effect:586.8030686967043\n",
      "p value:1.0\n",
      "\n"
     ]
    }
   ],
   "source": [
    "res_random=model.refute_estimate(identified_estimand, causal_estimate, method_name=\"random_common_cause\")\n",
    "print(res_random)"
   ]
  },
  {
   "cell_type": "markdown",
   "id": "e7fe8f35",
   "metadata": {},
   "source": [
    "Here we've added a random common cause, and it has not significantly affected our estimate. This gives us more confidence in our estimate. There are numerous other refutation techniques available in DoWhy."
   ]
  },
  {
   "cell_type": "markdown",
   "id": "22ac56b7",
   "metadata": {},
   "source": [
    "The example above uses synthetic data generated according to a causal graph. We can also apply DoWhy to real-world data where we believe there to be an underlying causal graph. In this example, we use DoWhy on the Infant Health and Development Program Dataset (Hill, J. L. (2011). Bayesian nonparametric modeling for causal inference. Journal of Computational and Graphical Statistics, 20(1), 217-240. https://doi.org/10.1198/jcgs.2010.08162). The example is taken from https://www.pywhy.org/dowhy/v0.9.1/example_notebooks/dowhy_refutation_testing.html."
   ]
  },
  {
   "cell_type": "code",
   "execution_count": 23,
   "id": "4e9c99d6",
   "metadata": {},
   "outputs": [],
   "source": [
    "# import pandas as pd\n",
    "# # we first load the data from a URL\n",
    "# data = pd.read_csv(\"https://raw.githubusercontent.com/AMLab-Amsterdam/CEVAE/master/datasets/IHDP/csv/ihdp_npci_1.csv\", header = None)\n",
    "\n",
    "# # here we are creating names for the columns\n",
    "# col =  [\"treatment\", \"y_factual\", \"y_cfactual\", \"mu0\", \"mu1\" ,]\n",
    "# for i in range(1,26):\n",
    "#     col.append(\"x\"+str(i))\n",
    "# data.columns = col\n",
    "\n",
    "# # finally, we change the treatment column to a boolean and view the top of the dataframe\n",
    "# data = data.astype({\"treatment\":'bool'}, copy=False)\n",
    "# data.head()"
   ]
  },
  {
   "cell_type": "markdown",
   "id": "103ca06d",
   "metadata": {},
   "source": [
    "We can create the DoWhy causal model with the data and the common causes, and visualise the resulting causal graph."
   ]
  },
  {
   "cell_type": "code",
   "execution_count": 24,
   "id": "5eec0dd3",
   "metadata": {},
   "outputs": [],
   "source": [
    "# making all 'x' variables common causes\n",
    "# common_causes = []\n",
    "\n",
    "# for i in range(1, 26):\n",
    "#     common_causes += [\"x\"+str(i)]\n",
    "\n",
    "# # creating and viewing the CausalModel\n",
    "# ihdp_model = CausalModel(\n",
    "#                 data=data,\n",
    "#                 treatment='treatment',\n",
    "#                 outcome='y_factual',\n",
    "#                 common_causes=common_causes\n",
    "#             )\n",
    "# ihdp_model.view_model(layout=\"dot\")"
   ]
  },
  {
   "cell_type": "markdown",
   "id": "3556e718",
   "metadata": {},
   "source": [
    "We can identify the causal effect from the causal graph."
   ]
  },
  {
   "cell_type": "code",
   "execution_count": 25,
   "id": "16ff4a0e",
   "metadata": {},
   "outputs": [
    {
     "name": "stdout",
     "output_type": "stream",
     "text": [
      "Estimand type: EstimandType.NONPARAMETRIC_ATE\n",
      "\n",
      "### Estimand : 1\n",
      "Estimand name: backdoor\n",
      "Estimand expression:\n",
      "   d                                                                \n",
      "────────(E[re78|married,education,black,age,nodegree,re75,hispanic])\n",
      "d[treat]                                                            \n",
      "Estimand assumption 1, Unconfoundedness: If U→{treat} and U→re78 then P(re78|treat,married,education,black,age,nodegree,re75,hispanic,U) = P(re78|treat,married,education,black,age,nodegree,re75,hispanic)\n",
      "\n",
      "### Estimand : 2\n",
      "Estimand name: iv\n",
      "No such variable(s) found!\n",
      "\n",
      "### Estimand : 3\n",
      "Estimand name: frontdoor\n",
      "No such variable(s) found!\n",
      "\n"
     ]
    }
   ],
   "source": [
    "#Identify the causal effect for the ihdp dataset\n",
    "ihdp_identified_estimand = model.identify_effect(proceed_when_unidentifiable=True)\n",
    "print(ihdp_identified_estimand)"
   ]
  },
  {
   "cell_type": "markdown",
   "id": "69a530c2",
   "metadata": {},
   "source": [
    "We can then calculate the causal estimate using propensity score weighting."
   ]
  },
  {
   "cell_type": "code",
   "execution_count": 26,
   "id": "3819180c",
   "metadata": {},
   "outputs": [
    {
     "name": "stdout",
     "output_type": "stream",
     "text": [
      "The Causal Estimate is 586.8030686967044\n"
     ]
    }
   ],
   "source": [
    "ihdp_estimate = model.estimate_effect(\n",
    "                    ihdp_identified_estimand,\n",
    "                    method_name=\"backdoor.propensity_score_stratification\"\n",
    "                )\n",
    "\n",
    "print(\"The Causal Estimate is \" + str(ihdp_estimate.value))"
   ]
  },
  {
   "cell_type": "markdown",
   "id": "ebd48a3d",
   "metadata": {},
   "source": [
    "Finally, we test the validity of our estimate by replacing the treatment with a placebo. We see that there is now no effect from the treatment, increasing our confidence in our estimate."
   ]
  },
  {
   "cell_type": "code",
   "execution_count": 27,
   "id": "d2e5504e",
   "metadata": {},
   "outputs": [
    {
     "name": "stdout",
     "output_type": "stream",
     "text": [
      "Refute: Use a Placebo Treatment\n",
      "Estimated effect:586.8030686967044\n",
      "New effect:-105.15042809595754\n",
      "p value:0.96\n",
      "\n"
     ]
    }
   ],
   "source": [
    "ihdp_refute_placebo_treatment = model.refute_estimate(\n",
    "                                    ihdp_identified_estimand,\n",
    "                                    ihdp_estimate,\n",
    "                                    method_name=\"placebo_treatment_refuter\",\n",
    "                                    placebo_type=\"permute\"\n",
    "                                )\n",
    "\n",
    "print(ihdp_refute_placebo_treatment)"
   ]
  },
  {
   "cell_type": "code",
   "execution_count": null,
   "id": "3dc3fe25",
   "metadata": {},
   "outputs": [],
   "source": []
  }
 ],
 "metadata": {
  "kernelspec": {
   "display_name": "Python 3",
   "language": "python",
   "name": "python3"
  },
  "language_info": {
   "codemirror_mode": {
    "name": "ipython",
    "version": 3
   },
   "file_extension": ".py",
   "mimetype": "text/x-python",
   "name": "python",
   "nbconvert_exporter": "python",
   "pygments_lexer": "ipython3",
   "version": "3.11.5"
  }
 },
 "nbformat": 4,
 "nbformat_minor": 5
}
